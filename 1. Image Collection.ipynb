{
 "cells": [
  {
   "cell_type": "markdown",
   "metadata": {},
   "source": [
    "# 1. Import Dependencies"
   ]
  },
  {
   "cell_type": "code",
   "execution_count": 1,
   "metadata": {},
   "outputs": [
    {
     "name": "stdout",
     "output_type": "stream",
     "text": [
      "Requirement already satisfied: opencv-python in c:\\users\\matth\\onedrive\\escritorio\\aprendiendo\\prueba3\\tfodcourse\\tfod\\lib\\site-packages (4.7.0.72)\n",
      "Requirement already satisfied: numpy>=1.21.2 in c:\\users\\matth\\onedrive\\escritorio\\aprendiendo\\prueba3\\tfodcourse\\tfod\\lib\\site-packages (from opencv-python) (1.23.5)\n"
     ]
    }
   ],
   "source": [
    "!pip install opencv-python"
   ]
  },
  {
   "cell_type": "code",
   "execution_count": 2,
   "metadata": {},
   "outputs": [],
   "source": [
    "# Import opencv\n",
    "import cv2 \n",
    "\n",
    "# Import uuid\n",
    "import uuid\n",
    "\n",
    "# Import Operating System\n",
    "import os\n",
    "\n",
    "# Import time\n",
    "import time"
   ]
  },
  {
   "cell_type": "markdown",
   "metadata": {},
   "source": [
    "# 2. Define Images to Collect"
   ]
  },
  {
   "cell_type": "code",
   "execution_count": 3,
   "metadata": {},
   "outputs": [],
   "source": [
    "labels = ['caja', 'botella', 'rotura', 'residuo', 'bolsa', 'roturas', 'papel']\n",
    "number_imgs = 5"
   ]
  },
  {
   "cell_type": "markdown",
   "metadata": {},
   "source": [
    "# 3. Setup Folders "
   ]
  },
  {
   "cell_type": "code",
   "execution_count": 4,
   "metadata": {},
   "outputs": [],
   "source": [
    "IMAGES_PATH = os.path.join('Tensorflow', 'workspace', 'images', 'collectedimages')"
   ]
  },
  {
   "cell_type": "code",
   "execution_count": 5,
   "metadata": {},
   "outputs": [],
   "source": [
    "if not os.path.exists(IMAGES_PATH):\n",
    "    if os.name == 'posix':\n",
    "        !mkdir -p {IMAGES_PATH}\n",
    "    if os.name == 'nt':\n",
    "         !mkdir {IMAGES_PATH}\n",
    "for label in labels:\n",
    "    path = os.path.join(IMAGES_PATH, label)\n",
    "    if not os.path.exists(path):\n",
    "        !mkdir {path}"
   ]
  },
  {
   "cell_type": "markdown",
   "metadata": {},
   "source": [
    "# 4. Capture Images"
   ]
  },
  {
   "cell_type": "code",
   "execution_count": 18,
   "metadata": {},
   "outputs": [
    {
     "name": "stdout",
     "output_type": "stream",
     "text": [
      "Collecting images for thumbsup\n",
      "Collecting image 0\n",
      "Collecting image 1\n",
      "Collecting image 2\n",
      "Collecting image 3\n",
      "Collecting image 4\n"
     ]
    }
   ],
   "source": [
    "for label in labels:\n",
    "    cap = cv2.VideoCapture(0)\n",
    "    print('Collecting images for {}'.format(label))\n",
    "    time.sleep(5)\n",
    "    for imgnum in range(number_imgs):\n",
    "        print('Collecting image {}'.format(imgnum))\n",
    "        ret, frame = cap.read()\n",
    "        imgname = os.path.join(IMAGES_PATH,label,label+'.'+'{}.jpg'.format(str(uuid.uuid1())))\n",
    "        cv2.imwrite(imgname, frame)\n",
    "        cv2.imshow('frame', frame)\n",
    "        time.sleep(2)\n",
    "\n",
    "        if cv2.waitKey(1) & 0xFF == ord('q'):\n",
    "            break\n",
    "cap.release()\n",
    "cv2.destroyAllWindows()"
   ]
  },
  {
   "cell_type": "markdown",
   "metadata": {},
   "source": [
    "# 5. Image Labelling"
   ]
  },
  {
   "cell_type": "code",
   "execution_count": 6,
   "metadata": {},
   "outputs": [
    {
     "name": "stdout",
     "output_type": "stream",
     "text": [
      "Requirement already satisfied: pyqt5 in c:\\users\\matth\\onedrive\\escritorio\\aprendiendo\\prueba3\\tfodcourse\\tfod\\lib\\site-packages (5.15.9)\n",
      "Requirement already satisfied: lxml in c:\\users\\matth\\onedrive\\escritorio\\aprendiendo\\prueba3\\tfodcourse\\tfod\\lib\\site-packages (4.9.2)\n",
      "Requirement already satisfied: PyQt5-sip<13,>=12.11 in c:\\users\\matth\\onedrive\\escritorio\\aprendiendo\\prueba3\\tfodcourse\\tfod\\lib\\site-packages (from pyqt5) (12.12.1)\n",
      "Requirement already satisfied: PyQt5-Qt5>=5.15.2 in c:\\users\\matth\\onedrive\\escritorio\\aprendiendo\\prueba3\\tfodcourse\\tfod\\lib\\site-packages (from pyqt5) (5.15.2)\n"
     ]
    }
   ],
   "source": [
    "!pip install --upgrade pyqt5 lxml"
   ]
  },
  {
   "cell_type": "code",
   "execution_count": 7,
   "metadata": {},
   "outputs": [],
   "source": [
    "LABELIMG_PATH = os.path.join('Tensorflow', 'labelimg')"
   ]
  },
  {
   "cell_type": "code",
   "execution_count": 8,
   "metadata": {},
   "outputs": [],
   "source": [
    "if not os.path.exists(LABELIMG_PATH):\n",
    "    !mkdir {LABELIMG_PATH}\n",
    "    !git clone https://github.com/tzutalin/labelImg {LABELIMG_PATH}"
   ]
  },
  {
   "cell_type": "code",
   "execution_count": 9,
   "metadata": {},
   "outputs": [],
   "source": [
    "if os.name == 'posix':\n",
    "    !make qt5py3\n",
    "if os.name =='nt':\n",
    "    !cd {LABELIMG_PATH} && pyrcc5 -o libs/resources.py resources.qrc"
   ]
  },
  {
   "cell_type": "code",
   "execution_count": 12,
   "metadata": {},
   "outputs": [
    {
     "name": "stdout",
     "output_type": "stream",
     "text": [
      "Image:C:\\Users\\matth\\OneDrive\\Escritorio\\Raspberry BackUp\\fotos_prueba3\\objeto_94.jpg -> Annotation:C:/Users/matth/OneDrive/Escritorio/Raspberry BackUp/fotos_prueba3\\objeto_94.xml\n",
      "Image:C:\\Users\\matth\\OneDrive\\Escritorio\\Raspberry BackUp\\fotos_prueba3\\objeto_95.jpg -> Annotation:C:/Users/matth/OneDrive/Escritorio/Raspberry BackUp/fotos_prueba3\\objeto_95.xml\n",
      "Image:C:\\Users\\matth\\OneDrive\\Escritorio\\Raspberry BackUp\\fotos_prueba3\\objeto_96.jpg -> Annotation:C:/Users/matth/OneDrive/Escritorio/Raspberry BackUp/fotos_prueba3\\objeto_96.xml\n",
      "Cancel creation.\n",
      "Image:C:\\Users\\matth\\OneDrive\\Escritorio\\Raspberry BackUp\\fotos_prueba3\\objeto_97.jpg -> Annotation:C:/Users/matth/OneDrive/Escritorio/Raspberry BackUp/fotos_prueba3\\objeto_97.xml\n",
      "Image:C:\\Users\\matth\\OneDrive\\Escritorio\\Raspberry BackUp\\fotos_prueba3\\objeto_98.jpg -> Annotation:C:/Users/matth/OneDrive/Escritorio/Raspberry BackUp/fotos_prueba3\\objeto_98.xml\n",
      "Image:C:\\Users\\matth\\OneDrive\\Escritorio\\Raspberry BackUp\\fotos_prueba3\\objeto_99.jpg -> Annotation:C:/Users/matth/OneDrive/Escritorio/Raspberry BackUp/fotos_prueba3\\objeto_99.xml\n",
      "Image:C:\\Users\\matth\\OneDrive\\Escritorio\\Raspberry BackUp\\fotos_prueba3\\objeto_100.jpg -> Annotation:C:/Users/matth/OneDrive/Escritorio/Raspberry BackUp/fotos_prueba3\\objeto_100.xml\n",
      "Image:C:\\Users\\matth\\OneDrive\\Escritorio\\Raspberry BackUp\\fotos_prueba3\\objeto_101.jpg -> Annotation:C:/Users/matth/OneDrive/Escritorio/Raspberry BackUp/fotos_prueba3\\objeto_101.xml\n",
      "Image:C:\\Users\\matth\\OneDrive\\Escritorio\\Raspberry BackUp\\fotos_prueba3\\objeto_102.jpg -> Annotation:C:/Users/matth/OneDrive/Escritorio/Raspberry BackUp/fotos_prueba3\\objeto_102.xml\n",
      "Image:C:\\Users\\matth\\OneDrive\\Escritorio\\Raspberry BackUp\\fotos_prueba3\\objeto_103.jpg -> Annotation:C:/Users/matth/OneDrive/Escritorio/Raspberry BackUp/fotos_prueba3\\objeto_103.xml\n",
      "Image:C:\\Users\\matth\\OneDrive\\Escritorio\\Raspberry BackUp\\fotos_prueba3\\objeto_104.jpg -> Annotation:C:/Users/matth/OneDrive/Escritorio/Raspberry BackUp/fotos_prueba3\\objeto_104.xml\n",
      "Image:C:\\Users\\matth\\OneDrive\\Escritorio\\Raspberry BackUp\\fotos_prueba3\\objeto_105.jpg -> Annotation:C:/Users/matth/OneDrive/Escritorio/Raspberry BackUp/fotos_prueba3\\objeto_105.xml\n",
      "Image:C:\\Users\\matth\\OneDrive\\Escritorio\\Raspberry BackUp\\fotos_prueba3\\objeto_106.jpg -> Annotation:C:/Users/matth/OneDrive/Escritorio/Raspberry BackUp/fotos_prueba3\\objeto_106.xml\n",
      "Image:C:\\Users\\matth\\OneDrive\\Escritorio\\Raspberry BackUp\\fotos_prueba3\\objeto_107.jpg -> Annotation:C:/Users/matth/OneDrive/Escritorio/Raspberry BackUp/fotos_prueba3\\objeto_107.xml\n",
      "Image:C:\\Users\\matth\\OneDrive\\Escritorio\\Raspberry BackUp\\fotos_prueba3\\objeto_108.jpg -> Annotation:C:/Users/matth/OneDrive/Escritorio/Raspberry BackUp/fotos_prueba3\\objeto_108.xml\n",
      "Image:C:\\Users\\matth\\OneDrive\\Escritorio\\Raspberry BackUp\\fotos_prueba3\\objeto_109.jpg -> Annotation:C:/Users/matth/OneDrive/Escritorio/Raspberry BackUp/fotos_prueba3\\objeto_109.xml\n"
     ]
    }
   ],
   "source": [
    "!cd {LABELIMG_PATH} && python labelImg.py"
   ]
  },
  {
   "cell_type": "markdown",
   "metadata": {},
   "source": [
    "# 6. Move them into a Training and Testing Partition"
   ]
  },
  {
   "cell_type": "markdown",
   "metadata": {},
   "source": [
    "# OPTIONAL - 7. Compress them for Colab Training"
   ]
  },
  {
   "cell_type": "code",
   "execution_count": 20,
   "metadata": {},
   "outputs": [],
   "source": [
    "TRAIN_PATH = os.path.join('Tensorflow', 'workspace', 'images', 'train')\n",
    "TEST_PATH = os.path.join('Tensorflow', 'workspace', 'images', 'test')\n",
    "ARCHIVE_PATH = os.path.join('Tensorflow', 'workspace', 'images', 'archive.tar.gz')"
   ]
  },
  {
   "cell_type": "code",
   "execution_count": 21,
   "metadata": {},
   "outputs": [],
   "source": [
    "!tar -czf {ARCHIVE_PATH} {TRAIN_PATH} {TEST_PATH}"
   ]
  },
  {
   "cell_type": "code",
   "execution_count": null,
   "metadata": {},
   "outputs": [],
   "source": []
  }
 ],
 "metadata": {
  "kernelspec": {
   "display_name": "tfod",
   "language": "python",
   "name": "tfod"
  },
  "language_info": {
   "codemirror_mode": {
    "name": "ipython",
    "version": 3
   },
   "file_extension": ".py",
   "mimetype": "text/x-python",
   "name": "python",
   "nbconvert_exporter": "python",
   "pygments_lexer": "ipython3",
   "version": "3.10.9"
  }
 },
 "nbformat": 4,
 "nbformat_minor": 2
}
